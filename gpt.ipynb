{
 "cells": [
  {
   "cell_type": "code",
   "execution_count": 5,
   "metadata": {},
   "outputs": [],
   "source": [
    "import os\n",
    "from dotenv import load_dotenv\n",
    "import openai\n",
    "load_dotenv()\n",
    "from dotenv import load_dotenv"
   ]
  },
  {
   "cell_type": "code",
   "execution_count": 6,
   "metadata": {},
   "outputs": [],
   "source": [
    "\n",
    "openai.api_key = os.getenv(\"OPENAI_API_KEY\")\n"
   ]
  },
  {
   "cell_type": "code",
   "execution_count": 7,
   "metadata": {},
   "outputs": [],
   "source": [
    "prompt_user = \"prompt\""
   ]
  },
  {
   "attachments": {},
   "cell_type": "markdown",
   "metadata": {},
   "source": [
    "Image generation"
   ]
  },
  {
   "cell_type": "code",
   "execution_count": 8,
   "metadata": {},
   "outputs": [
    {
     "name": "stdout",
     "output_type": "stream",
     "text": [
      "https://oaidalleapiprodscus.blob.core.windows.net/private/org-iWO6yTfmA7FZtS1PU9uI15wH/user-9Q8unXj337q40ZaJnodm78dK/img-4YXshM6dhkyyreiCV7TPfNCb.png?st=2023-01-02T08%3A25%3A33Z&se=2023-01-02T10%3A25%3A33Z&sp=r&sv=2021-08-06&sr=b&rscd=inline&rsct=image/png&skoid=6aaadede-4fb3-4698-a8f6-684d7786b067&sktid=a48cca56-e6da-484e-a814-9c849652bcb3&skt=2023-01-02T02%3A07%3A52Z&ske=2023-01-03T02%3A07%3A52Z&sks=b&skv=2021-08-06&sig=IO6UL0e7hqiApjzUbYjNpzR/c1u08j7WRdze8Q%2BrDP8%3D\n"
     ]
    }
   ],
   "source": [
    "\n",
    "prompt_user = input('\\nEnter a prompt\\n')\n",
    "response = openai.Image.create(\n",
    "prompt=prompt_user,\n",
    "n=1,\n",
    "size=\"1024x1024\"\n",
    ")\n",
    "image_url = response['data'][0]['url']\n",
    "print(image_url)"
   ]
  },
  {
   "attachments": {},
   "cell_type": "markdown",
   "metadata": {},
   "source": [
    "Text generation"
   ]
  },
  {
   "cell_type": "code",
   "execution_count": 9,
   "metadata": {},
   "outputs": [],
   "source": [
    "character = input(\"\\nEnter a character you want to talk to : \\n\")\n",
    "prompt_user = \"prompt\"\n",
    "\n",
    "while(prompt_user != \"stop\"):\n",
    "    prompt_user = input('\\nEnter a prompt, to stop type stop.\\n')\n",
    "    response = openai.Completion.create(\n",
    "    model=\"text-davinci-003\",\n",
    "    prompt=\"chat with me as \"+character+\"\\n\\nme: \"+prompt_user+\"\\\"\\nmom:\",\n",
    "    temperature=0,\n",
    "    max_tokens=30,\n",
    "    top_p=1,\n",
    "    frequency_penalty=0.5,\n",
    "    presence_penalty=0\n",
    "    )\n",
    "    text_res = response['choices'][0]['text']\n",
    "    print(text_res+\"\\n\")"
   ]
  },
  {
   "attachments": {},
   "cell_type": "markdown",
   "metadata": {},
   "source": [
    "Code generation"
   ]
  },
  {
   "cell_type": "code",
   "execution_count": 10,
   "metadata": {},
   "outputs": [],
   "source": [
    "\n",
    "prompt_user = input('\\nEnter a prompt, to stop type False.\\n')\n",
    "response = openai.Completion.create(\n",
    "model=\"code-davinci-002\",\n",
    "prompt=\"Create a nodejs server\",\n",
    "temperature=0,\n",
    "max_tokens=100,\n",
    "top_p=1,\n",
    "frequency_penalty=0,\n",
    "presence_penalty=0\n",
    ")\n",
    "code_res = response['choices'][0]['text']\n",
    "print(code_res)"
   ]
  }
 ],
 "metadata": {
  "kernelspec": {
   "display_name": "Python 3",
   "language": "python",
   "name": "python3"
  },
  "language_info": {
   "codemirror_mode": {
    "name": "ipython",
    "version": 3
   },
   "file_extension": ".py",
   "mimetype": "text/x-python",
   "name": "python",
   "nbconvert_exporter": "python",
   "pygments_lexer": "ipython3",
   "version": "3.10.0"
  },
  "orig_nbformat": 4,
  "vscode": {
   "interpreter": {
    "hash": "23cdf5444714725874b53ee9c2a72fed262e3bd7040fb8ff88dd9cf6e143f4b4"
   }
  }
 },
 "nbformat": 4,
 "nbformat_minor": 2
}
